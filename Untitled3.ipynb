{
  "nbformat": 4,
  "nbformat_minor": 0,
  "metadata": {
    "colab": {
      "provenance": [],
      "authorship_tag": "ABX9TyP8k1tV7kZKmzQGrTVKNMpT",
      "include_colab_link": true
    },
    "kernelspec": {
      "name": "python3",
      "display_name": "Python 3"
    },
    "language_info": {
      "name": "python"
    }
  },
  "cells": [
    {
      "cell_type": "markdown",
      "metadata": {
        "id": "view-in-github",
        "colab_type": "text"
      },
      "source": [
        "<a href=\"https://colab.research.google.com/github/DiwasNeupane10/Learning-CV/blob/main/Untitled3.ipynb\" target=\"_parent\"><img src=\"https://colab.research.google.com/assets/colab-badge.svg\" alt=\"Open In Colab\"/></a>"
      ]
    },
    {
      "cell_type": "code",
      "execution_count": 1,
      "metadata": {
        "id": "OwzdmkEJrui2"
      },
      "outputs": [],
      "source": [
        "import tensorflow as tf"
      ]
    },
    {
      "cell_type": "code",
      "source": [
        "zero_d_tensor=tf.constant(4)\n",
        "print(zero_d_tensor)"
      ],
      "metadata": {
        "colab": {
          "base_uri": "https://localhost:8080/"
        },
        "id": "fZ5DIttVsC-b",
        "outputId": "0791ccc0-3d76-4256-bbbc-33baafa62ce5"
      },
      "execution_count": 2,
      "outputs": [
        {
          "output_type": "stream",
          "name": "stdout",
          "text": [
            "tf.Tensor(4, shape=(), dtype=int32)\n"
          ]
        }
      ]
    },
    {
      "cell_type": "code",
      "source": [
        "one_d_tensor=tf.constant([1,2,3])\n",
        "print(one_d_tensor)"
      ],
      "metadata": {
        "colab": {
          "base_uri": "https://localhost:8080/"
        },
        "id": "KSRR5RrBsJ_a",
        "outputId": "c70f2ec7-e9b6-4581-a579-1e47e7508b0b"
      },
      "execution_count": 3,
      "outputs": [
        {
          "output_type": "stream",
          "name": "stdout",
          "text": [
            "tf.Tensor([1 2 3], shape=(3,), dtype=int32)\n"
          ]
        }
      ]
    },
    {
      "cell_type": "code",
      "source": [
        "two_d_tensor=tf.constant([[1,2,3],[4,5,6],[7,8,9]])\n",
        "print(two_d_tensor)"
      ],
      "metadata": {
        "colab": {
          "base_uri": "https://localhost:8080/"
        },
        "id": "-myydLu2sYdJ",
        "outputId": "be66d3dd-ca8b-473b-948b-2d195954be77"
      },
      "execution_count": 4,
      "outputs": [
        {
          "output_type": "stream",
          "name": "stdout",
          "text": [
            "tf.Tensor(\n",
            "[[1 2 3]\n",
            " [4 5 6]\n",
            " [7 8 9]], shape=(3, 3), dtype=int32)\n"
          ]
        }
      ]
    },
    {
      "cell_type": "code",
      "source": [
        "three_d_tensor=tf.constant(\n",
        "    [[[1,2,0],\n",
        "     [3,5,-1]],\n",
        "    [[10,2,0],\n",
        "     [1,0,2]],\n",
        "    [[5,8,0],\n",
        "     [2,7,0]],\n",
        "    [[2,1,9],\n",
        "     [4,-3,32]]]\n",
        ")"
      ],
      "metadata": {
        "id": "MpILcQsessYS"
      },
      "execution_count": 5,
      "outputs": []
    },
    {
      "cell_type": "code",
      "source": [
        "print(three_d_tensor)"
      ],
      "metadata": {
        "colab": {
          "base_uri": "https://localhost:8080/"
        },
        "id": "Xg-coIL5tiid",
        "outputId": "ed1003c2-ce52-45d7-d228-d79868e120f7"
      },
      "execution_count": 6,
      "outputs": [
        {
          "output_type": "stream",
          "name": "stdout",
          "text": [
            "tf.Tensor(\n",
            "[[[ 1  2  0]\n",
            "  [ 3  5 -1]]\n",
            "\n",
            " [[10  2  0]\n",
            "  [ 1  0  2]]\n",
            "\n",
            " [[ 5  8  0]\n",
            "  [ 2  7  0]]\n",
            "\n",
            " [[ 2  1  9]\n",
            "  [ 4 -3 32]]], shape=(4, 2, 3), dtype=int32)\n"
          ]
        }
      ]
    },
    {
      "cell_type": "code",
      "source": [
        "three_d_tensor.shape"
      ],
      "metadata": {
        "colab": {
          "base_uri": "https://localhost:8080/"
        },
        "id": "gnYMhQ9otl2H",
        "outputId": "bce983f3-d742-47b4-9a94-a16d6de4d43a"
      },
      "execution_count": 7,
      "outputs": [
        {
          "output_type": "execute_result",
          "data": {
            "text/plain": [
              "TensorShape([4, 2, 3])"
            ]
          },
          "metadata": {},
          "execution_count": 7
        }
      ]
    },
    {
      "cell_type": "code",
      "source": [
        "# n_dim gives the dimension of the tensor\n",
        "three_d_tensor.ndim\n"
      ],
      "metadata": {
        "colab": {
          "base_uri": "https://localhost:8080/"
        },
        "id": "TC9NJvYwt_T0",
        "outputId": "0add24bd-e853-423d-9c3e-05130fd5a6f5"
      },
      "execution_count": 8,
      "outputs": [
        {
          "output_type": "execute_result",
          "data": {
            "text/plain": [
              "3"
            ]
          },
          "metadata": {},
          "execution_count": 8
        }
      ]
    },
    {
      "cell_type": "code",
      "source": [
        "four_d_tensor=tf.constant(\n",
        "    #first level of 3d tensor\n",
        "   [ [[[1,2,0],\n",
        "     [3,5,-1]],\n",
        "    [[10,2,0],\n",
        "     [1,0,2]],\n",
        "    [[5,8,0],\n",
        "     [2,7,0]],\n",
        "    [[2,1,9],\n",
        "     [4,-3,32]]],\n",
        "    #second level of 3d tensor\n",
        "     [[[1,2,0],\n",
        "     [3,5,-1]],\n",
        "    [[10,2,0],\n",
        "     [1,0,2]],\n",
        "    [[5,8,0],\n",
        "     [2,7,0]],\n",
        "    [[2,1,9],\n",
        "     [4,-3,32]]]\n",
        "   ]\n",
        ")\n",
        "print(four_d_tensor)"
      ],
      "metadata": {
        "colab": {
          "base_uri": "https://localhost:8080/"
        },
        "id": "rW8v6LF8uGgP",
        "outputId": "8bd8f611-0f26-4fb1-9abd-3d3d86848858"
      },
      "execution_count": 9,
      "outputs": [
        {
          "output_type": "stream",
          "name": "stdout",
          "text": [
            "tf.Tensor(\n",
            "[[[[ 1  2  0]\n",
            "   [ 3  5 -1]]\n",
            "\n",
            "  [[10  2  0]\n",
            "   [ 1  0  2]]\n",
            "\n",
            "  [[ 5  8  0]\n",
            "   [ 2  7  0]]\n",
            "\n",
            "  [[ 2  1  9]\n",
            "   [ 4 -3 32]]]\n",
            "\n",
            "\n",
            " [[[ 1  2  0]\n",
            "   [ 3  5 -1]]\n",
            "\n",
            "  [[10  2  0]\n",
            "   [ 1  0  2]]\n",
            "\n",
            "  [[ 5  8  0]\n",
            "   [ 2  7  0]]\n",
            "\n",
            "  [[ 2  1  9]\n",
            "   [ 4 -3 32]]]], shape=(2, 4, 2, 3), dtype=int32)\n"
          ]
        }
      ]
    },
    {
      "cell_type": "code",
      "source": [
        "four_d_tensor.ndim"
      ],
      "metadata": {
        "colab": {
          "base_uri": "https://localhost:8080/"
        },
        "id": "5w7-AQICvZpS",
        "outputId": "5fd4a5b7-319e-4ebe-c0b5-62da00fe21b2"
      },
      "execution_count": 10,
      "outputs": [
        {
          "output_type": "execute_result",
          "data": {
            "text/plain": [
              "4"
            ]
          },
          "metadata": {},
          "execution_count": 10
        }
      ]
    },
    {
      "cell_type": "code",
      "source": [
        "#shape (2,4,2,3) states that we have\n",
        "#    2 3D tensors\n",
        " #   Each 3D tensor has 4 2D tensor\n",
        "# Each 2D tensor has 2 rows and 3 columns"
      ],
      "metadata": {
        "id": "CkPS07P1wJ0x"
      },
      "execution_count": 11,
      "outputs": []
    },
    {
      "cell_type": "code",
      "source": [
        "casted_one_d_tensor=tf.cast(one_d_tensor,dtype=tf.float16)\n",
        "print(casted_one_d_tensor)"
      ],
      "metadata": {
        "colab": {
          "base_uri": "https://localhost:8080/"
        },
        "id": "xWfMkRy0wm8m",
        "outputId": "b0bffed4-1d65-4b27-d5bd-0e96ac6761c7"
      },
      "execution_count": 12,
      "outputs": [
        {
          "output_type": "stream",
          "name": "stdout",
          "text": [
            "tf.Tensor([1. 2. 3.], shape=(3,), dtype=float16)\n"
          ]
        }
      ]
    },
    {
      "cell_type": "code",
      "source": [
        "import numpy as np"
      ],
      "metadata": {
        "id": "b0EgV7AMxWIZ"
      },
      "execution_count": 13,
      "outputs": []
    },
    {
      "cell_type": "code",
      "source": [
        "np_array=np.array([1,2,3])\n",
        "converted_tensor=tf.convert_to_tensor(np_array)"
      ],
      "metadata": {
        "id": "kKrQNdToxtoS"
      },
      "execution_count": 14,
      "outputs": []
    },
    {
      "cell_type": "code",
      "source": [
        "identity_tensor=tf.eye(\n",
        "    num_rows=3,\n",
        "    num_columns=3,\n",
        "    batch_shape=None,\n",
        "    dtype=tf.dtypes.int16,\n",
        "    name=None\n",
        ")\n",
        "print(identity_tensor)\n",
        "#batch_shape gives no of batches"
      ],
      "metadata": {
        "colab": {
          "base_uri": "https://localhost:8080/"
        },
        "id": "_kNCIRC1x_7o",
        "outputId": "17c7ffdf-9df7-42f6-c934-762aecd7aa64"
      },
      "execution_count": 15,
      "outputs": [
        {
          "output_type": "stream",
          "name": "stdout",
          "text": [
            "tf.Tensor(\n",
            "[[1 0 0]\n",
            " [0 1 0]\n",
            " [0 0 1]], shape=(3, 3), dtype=int16)\n"
          ]
        }
      ]
    },
    {
      "cell_type": "code",
      "source": [
        "filled_tensor=tf.fill(\n",
        "    [1,3,4],5\n",
        ")\n",
        "print(filled_tensor)"
      ],
      "metadata": {
        "colab": {
          "base_uri": "https://localhost:8080/"
        },
        "id": "FCZOagEbzJ0I",
        "outputId": "1def7aeb-706b-44d1-87be-505def972af6"
      },
      "execution_count": 16,
      "outputs": [
        {
          "output_type": "stream",
          "name": "stdout",
          "text": [
            "tf.Tensor(\n",
            "[[[5 5 5 5]\n",
            "  [5 5 5 5]\n",
            "  [5 5 5 5]]], shape=(1, 3, 4), dtype=int32)\n"
          ]
        }
      ]
    },
    {
      "cell_type": "code",
      "source": [
        "#make a random tensor from a normal distribution\n",
        "random_tensor=tf.random.normal(\n",
        "    [3,2],\n",
        "    mean=10.0,\n",
        "    stddev=1.0,\n",
        "    dtype=tf.dtypes.float16,\n",
        "    seed=None,\n",
        "    name=None\n",
        ")\n",
        "print(random_tensor)"
      ],
      "metadata": {
        "id": "HuG3pmV10osP",
        "outputId": "80d64753-b88c-4632-f29a-f7b27eb623ce",
        "colab": {
          "base_uri": "https://localhost:8080/"
        }
      },
      "execution_count": 17,
      "outputs": [
        {
          "output_type": "stream",
          "name": "stdout",
          "text": [
            "tf.Tensor(\n",
            "[[ 9.016  9.5  ]\n",
            " [ 8.9   11.055]\n",
            " [10.24   9.99 ]], shape=(3, 2), dtype=float16)\n"
          ]
        }
      ]
    },
    {
      "cell_type": "code",
      "source": [
        "random_uniform_tensor=tf.random.uniform(\n",
        "    [5,5],\n",
        "    minval=0,\n",
        "    maxval=8,\n",
        "    dtype=tf.dtypes.float16,\n",
        "    seed=None,\n",
        "    name=None\n",
        "\n",
        ")\n",
        "print(random_uniform_tensor)\n",
        "#seed allows to have same reproducable output everytime"
      ],
      "metadata": {
        "id": "oI-9BAcBpPJZ",
        "outputId": "2bc09581-fbd4-4d88-9423-ecc955c22626",
        "colab": {
          "base_uri": "https://localhost:8080/"
        }
      },
      "execution_count": 18,
      "outputs": [
        {
          "output_type": "stream",
          "name": "stdout",
          "text": [
            "tf.Tensor(\n",
            "[[1.922  0.125  5.617  3.242  5.58  ]\n",
            " [7.367  3.508  3.36   5.93   0.0781]\n",
            " [3.586  0.336  2.602  7.508  3.18  ]\n",
            " [1.953  0.664  5.97   4.297  1.906 ]\n",
            " [2.688  0.7812 0.9766 3.586  2.992 ]], shape=(5, 5), dtype=float16)\n"
          ]
        }
      ]
    },
    {
      "cell_type": "code",
      "source": [
        "tensor_indexed=tf.constant([3,6,2,4,6,66,7])\n",
        "print(tensor_indexed[0:4])\n",
        "print(tensor_indexed[:4])\n",
        "print(tensor_indexed[1:6])\n",
        "print(tensor_indexed[0:7:2])\n",
        "print(tensor_indexed[:-1])#except the last value\n",
        "print(tensor_indexed[:-2])#except the last two values"
      ],
      "metadata": {
        "id": "RhThXJC0qli5",
        "outputId": "ee8dc53e-a913-4156-c9a1-69873ab3a3e2",
        "colab": {
          "base_uri": "https://localhost:8080/"
        }
      },
      "execution_count": 19,
      "outputs": [
        {
          "output_type": "stream",
          "name": "stdout",
          "text": [
            "tf.Tensor([3 6 2 4], shape=(4,), dtype=int32)\n",
            "tf.Tensor([3 6 2 4], shape=(4,), dtype=int32)\n",
            "tf.Tensor([ 6  2  4  6 66], shape=(5,), dtype=int32)\n",
            "tf.Tensor([3 2 6 7], shape=(4,), dtype=int32)\n",
            "tf.Tensor([ 3  6  2  4  6 66], shape=(6,), dtype=int32)\n",
            "tf.Tensor([3 6 2 4 6], shape=(5,), dtype=int32)\n"
          ]
        }
      ]
    },
    {
      "cell_type": "code",
      "source": [
        "print(two_d_tensor)\n",
        "print(two_d_tensor[0:2,0:2])\n",
        "print(two_d_tensor[:,-1])\n",
        "print(two_d_tensor[...,1])#... means all the rows or columns"
      ],
      "metadata": {
        "id": "aw2da-VEruIo",
        "outputId": "c54b6222-b915-4fc3-9677-3b3b2479758d",
        "colab": {
          "base_uri": "https://localhost:8080/"
        }
      },
      "execution_count": 20,
      "outputs": [
        {
          "output_type": "stream",
          "name": "stdout",
          "text": [
            "tf.Tensor(\n",
            "[[1 2 3]\n",
            " [4 5 6]\n",
            " [7 8 9]], shape=(3, 3), dtype=int32)\n",
            "tf.Tensor(\n",
            "[[1 2]\n",
            " [4 5]], shape=(2, 2), dtype=int32)\n",
            "tf.Tensor([3 6 9], shape=(3,), dtype=int32)\n",
            "tf.Tensor([2 5 8], shape=(3,), dtype=int32)\n"
          ]
        }
      ]
    },
    {
      "cell_type": "code",
      "source": [
        "print(three_d_tensor)"
      ],
      "metadata": {
        "id": "B1EIJQKBs-tY",
        "outputId": "926f8708-4632-4c10-c64f-71e55037ab49",
        "colab": {
          "base_uri": "https://localhost:8080/"
        }
      },
      "execution_count": 21,
      "outputs": [
        {
          "output_type": "stream",
          "name": "stdout",
          "text": [
            "tf.Tensor(\n",
            "[[[ 1  2  0]\n",
            "  [ 3  5 -1]]\n",
            "\n",
            " [[10  2  0]\n",
            "  [ 1  0  2]]\n",
            "\n",
            " [[ 5  8  0]\n",
            "  [ 2  7  0]]\n",
            "\n",
            " [[ 2  1  9]\n",
            "  [ 4 -3 32]]], shape=(4, 2, 3), dtype=int32)\n"
          ]
        }
      ]
    },
    {
      "cell_type": "code",
      "source": [
        "print(three_d_tensor[0,0,:])"
      ],
      "metadata": {
        "id": "__miia4dvo6Y",
        "outputId": "b6c35aad-343d-442a-d50f-80298dfd7209",
        "colab": {
          "base_uri": "https://localhost:8080/"
        }
      },
      "execution_count": 22,
      "outputs": [
        {
          "output_type": "stream",
          "name": "stdout",
          "text": [
            "tf.Tensor([1 2 0], shape=(3,), dtype=int32)\n"
          ]
        }
      ]
    },
    {
      "cell_type": "code",
      "source": [
        "x_1=tf.constant([[5,6,7,8],[8,9,10,11]],dtype=tf.dtypes.int16)\n",
        "x_2=tf.constant([7],dtype=tf.dtypes.int16)\n",
        "print(tf.math.add(x_1,x_2))"
      ],
      "metadata": {
        "id": "htUfA3XxxaNR",
        "outputId": "d5fba988-ccea-4774-e12b-7f52e6f9f9a9",
        "colab": {
          "base_uri": "https://localhost:8080/"
        }
      },
      "execution_count": 24,
      "outputs": [
        {
          "output_type": "stream",
          "name": "stdout",
          "text": [
            "tf.Tensor(\n",
            "[[12 13 14 15]\n",
            " [15 16 17 18]], shape=(2, 4), dtype=int16)\n"
          ]
        }
      ]
    },
    {
      "cell_type": "code",
      "source": [
        "x_1=tf.constant([[5,6,7,8]],dtype=tf.dtypes.int16)\n",
        "x_2=tf.constant([[7],[5],[3]],dtype=tf.dtypes.int16)\n",
        "print(tf.math.add(x_1,x_2))"
      ],
      "metadata": {
        "id": "NVS8BsgHrmh0",
        "outputId": "42a05fd0-d2a9-4be3-df28-50f7a015c856",
        "colab": {
          "base_uri": "https://localhost:8080/"
        }
      },
      "execution_count": 26,
      "outputs": [
        {
          "output_type": "stream",
          "name": "stdout",
          "text": [
            "tf.Tensor(\n",
            "[[12 13 14 15]\n",
            " [10 11 12 13]\n",
            " [ 8  9 10 11]], shape=(3, 4), dtype=int16)\n"
          ]
        }
      ]
    },
    {
      "cell_type": "code",
      "source": [
        "x_argmax=two_d_tensor\n",
        "print(x_argmax)"
      ],
      "metadata": {
        "id": "mTeyRHATsj-A",
        "outputId": "fc6fb186-dbe0-4691-9e22-b01fbd75015b",
        "colab": {
          "base_uri": "https://localhost:8080/"
        }
      },
      "execution_count": 34,
      "outputs": [
        {
          "output_type": "stream",
          "name": "stdout",
          "text": [
            "tf.Tensor(\n",
            "[[1 2 3]\n",
            " [4 5 6]\n",
            " [7 8 9]], shape=(3, 3), dtype=int32)\n"
          ]
        }
      ]
    },
    {
      "cell_type": "code",
      "source": [
        "print(tf.math.argmax(x_argmax))#returns the max value in the axis"
      ],
      "metadata": {
        "id": "foAiYagXtKW0",
        "outputId": "4e5ead4e-628e-4228-e789-6b8d63ef86f6",
        "colab": {
          "base_uri": "https://localhost:8080/"
        }
      },
      "execution_count": 33,
      "outputs": [
        {
          "output_type": "stream",
          "name": "stdout",
          "text": [
            "tf.Tensor([2 2 2], shape=(3,), dtype=int64)\n"
          ]
        }
      ]
    },
    {
      "cell_type": "code",
      "source": [
        "x=tf.constant([[2,3],[3,3]])\n",
        "y=tf.constant([[[1,0],[4,5]]])\n",
        "tf.pow(x,y)\n",
        "#2 pow 1 , 3 pow 0 and so on"
      ],
      "metadata": {
        "id": "wuDRVHcquPeI",
        "outputId": "279fa37d-c7bb-4c80-9105-8339e2f71c81",
        "colab": {
          "base_uri": "https://localhost:8080/"
        }
      },
      "execution_count": 37,
      "outputs": [
        {
          "output_type": "execute_result",
          "data": {
            "text/plain": [
              "<tf.Tensor: shape=(1, 2, 2), dtype=int32, numpy=\n",
              "array([[[  2,   1],\n",
              "        [ 81, 243]]], dtype=int32)>"
            ]
          },
          "metadata": {},
          "execution_count": 37
        }
      ]
    },
    {
      "cell_type": "code",
      "source": [
        "two_d_tensor=tf.constant([[1,2, 3],[4, 5, 6],[7, 8, 9]],dtype=tf.dtypes.float16)\n",
        "print(two_d_tensor)\n",
        "print(tf.math.reduce_sum(two_d_tensor))#sums all the elements and then reduces the tensor"
      ],
      "metadata": {
        "id": "nfoXfjA6vC0X",
        "outputId": "b5ef6c62-922c-4939-8849-8661ac68e261",
        "colab": {
          "base_uri": "https://localhost:8080/"
        }
      },
      "execution_count": 52,
      "outputs": [
        {
          "output_type": "stream",
          "name": "stdout",
          "text": [
            "tf.Tensor(\n",
            "[[1. 2. 3.]\n",
            " [4. 5. 6.]\n",
            " [7. 8. 9.]], shape=(3, 3), dtype=float16)\n",
            "tf.Tensor(45.0, shape=(), dtype=float16)\n"
          ]
        }
      ]
    },
    {
      "cell_type": "code",
      "source": [
        "tf.math.reduce_max(two_d_tensor)"
      ],
      "metadata": {
        "id": "Q7-RcXBkvcKJ",
        "outputId": "4666661d-4b84-490e-ee29-103eb349f091",
        "colab": {
          "base_uri": "https://localhost:8080/"
        }
      },
      "execution_count": 53,
      "outputs": [
        {
          "output_type": "execute_result",
          "data": {
            "text/plain": [
              "<tf.Tensor: shape=(), dtype=float16, numpy=9.0>"
            ]
          },
          "metadata": {},
          "execution_count": 53
        }
      ]
    },
    {
      "cell_type": "code",
      "source": [
        "tf.math.reduce_mean(two_d_tensor,axis=0)"
      ],
      "metadata": {
        "id": "8bEMfe1cwYjc",
        "outputId": "1405b4d7-1f9d-456b-f51d-dcecf0766fea",
        "colab": {
          "base_uri": "https://localhost:8080/"
        }
      },
      "execution_count": 54,
      "outputs": [
        {
          "output_type": "execute_result",
          "data": {
            "text/plain": [
              "<tf.Tensor: shape=(3,), dtype=float16, numpy=array([4., 5., 6.], dtype=float16)>"
            ]
          },
          "metadata": {},
          "execution_count": 54
        }
      ]
    },
    {
      "cell_type": "code",
      "source": [
        "tf.math.reduce_mean(two_d_tensor,axis=1)"
      ],
      "metadata": {
        "id": "uIPIUeGUws2E",
        "outputId": "34e40d30-8501-48d0-e67c-003b92b7199a",
        "colab": {
          "base_uri": "https://localhost:8080/"
        }
      },
      "execution_count": 55,
      "outputs": [
        {
          "output_type": "execute_result",
          "data": {
            "text/plain": [
              "<tf.Tensor: shape=(3,), dtype=float16, numpy=array([2., 5., 8.], dtype=float16)>"
            ]
          },
          "metadata": {},
          "execution_count": 55
        }
      ]
    },
    {
      "cell_type": "code",
      "source": [
        "tf.math.top_k(two_d_tensor)"
      ],
      "metadata": {
        "id": "sG8xd-nMxZ1w",
        "outputId": "10239edf-2183-42ef-d316-f4bfd6dfb4a4",
        "colab": {
          "base_uri": "https://localhost:8080/"
        }
      },
      "execution_count": 56,
      "outputs": [
        {
          "output_type": "execute_result",
          "data": {
            "text/plain": [
              "TopKV2(values=<tf.Tensor: shape=(3, 1), dtype=float16, numpy=\n",
              "array([[3.],\n",
              "       [6.],\n",
              "       [9.]], dtype=float16)>, indices=<tf.Tensor: shape=(3, 1), dtype=int32, numpy=\n",
              "array([[2],\n",
              "       [2],\n",
              "       [2]], dtype=int32)>)"
            ]
          },
          "metadata": {},
          "execution_count": 56
        }
      ]
    },
    {
      "cell_type": "code",
      "source": [],
      "metadata": {
        "id": "ByzsV3CByhi0"
      },
      "execution_count": null,
      "outputs": []
    }
  ]
}