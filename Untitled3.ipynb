{
  "nbformat": 4,
  "nbformat_minor": 0,
  "metadata": {
    "colab": {
      "provenance": [],
      "authorship_tag": "ABX9TyNNZWz3PeneqSIB2Mw/6wxJ",
      "include_colab_link": true
    },
    "kernelspec": {
      "name": "python3",
      "display_name": "Python 3"
    },
    "language_info": {
      "name": "python"
    }
  },
  "cells": [
    {
      "cell_type": "markdown",
      "metadata": {
        "id": "view-in-github",
        "colab_type": "text"
      },
      "source": [
        "<a href=\"https://colab.research.google.com/github/DiwasNeupane10/Learning-CV/blob/main/Untitled3.ipynb\" target=\"_parent\"><img src=\"https://colab.research.google.com/assets/colab-badge.svg\" alt=\"Open In Colab\"/></a>"
      ]
    },
    {
      "cell_type": "code",
      "execution_count": 1,
      "metadata": {
        "id": "OwzdmkEJrui2"
      },
      "outputs": [],
      "source": [
        "import tensorflow as tf"
      ]
    },
    {
      "cell_type": "code",
      "source": [
        "zero_d_tensor=tf.constant(4)\n",
        "print(zero_d_tensor)"
      ],
      "metadata": {
        "colab": {
          "base_uri": "https://localhost:8080/"
        },
        "id": "fZ5DIttVsC-b",
        "outputId": "0b7ee150-c324-4af5-ab02-0f960e31fc7f"
      },
      "execution_count": 2,
      "outputs": [
        {
          "output_type": "stream",
          "name": "stdout",
          "text": [
            "tf.Tensor(4, shape=(), dtype=int32)\n"
          ]
        }
      ]
    },
    {
      "cell_type": "code",
      "source": [
        "one_d_tensor=tf.constant([1,2,3])\n",
        "print(one_d_tensor)"
      ],
      "metadata": {
        "colab": {
          "base_uri": "https://localhost:8080/"
        },
        "id": "KSRR5RrBsJ_a",
        "outputId": "21a4df74-fbb4-4d8f-8db3-2768984b01b8"
      },
      "execution_count": 3,
      "outputs": [
        {
          "output_type": "stream",
          "name": "stdout",
          "text": [
            "tf.Tensor([1 2 3], shape=(3,), dtype=int32)\n"
          ]
        }
      ]
    },
    {
      "cell_type": "code",
      "source": [
        "two_d_tensor=tf.constant([[1,2,3],[4,5,6],[7,8,9]])\n",
        "print(two_d_tensor)"
      ],
      "metadata": {
        "colab": {
          "base_uri": "https://localhost:8080/"
        },
        "id": "-myydLu2sYdJ",
        "outputId": "49a6e481-4361-44df-aa4e-d51239a4d903"
      },
      "execution_count": 4,
      "outputs": [
        {
          "output_type": "stream",
          "name": "stdout",
          "text": [
            "tf.Tensor(\n",
            "[[1 2 3]\n",
            " [4 5 6]\n",
            " [7 8 9]], shape=(3, 3), dtype=int32)\n"
          ]
        }
      ]
    },
    {
      "cell_type": "code",
      "source": [
        "three_d_tensor=tf.constant(\n",
        "    [[[1,2,0],\n",
        "     [3,5,-1]],\n",
        "    [[10,2,0],\n",
        "     [1,0,2]],\n",
        "    [[5,8,0],\n",
        "     [2,7,0]],\n",
        "    [[2,1,9],\n",
        "     [4,-3,32]]]\n",
        ")"
      ],
      "metadata": {
        "id": "MpILcQsessYS"
      },
      "execution_count": 5,
      "outputs": []
    },
    {
      "cell_type": "code",
      "source": [
        "print(three_d_tensor)"
      ],
      "metadata": {
        "colab": {
          "base_uri": "https://localhost:8080/"
        },
        "id": "Xg-coIL5tiid",
        "outputId": "4e1f8640-298a-4359-d6dd-e11eecffade6"
      },
      "execution_count": 6,
      "outputs": [
        {
          "output_type": "stream",
          "name": "stdout",
          "text": [
            "tf.Tensor(\n",
            "[[[ 1  2  0]\n",
            "  [ 3  5 -1]]\n",
            "\n",
            " [[10  2  0]\n",
            "  [ 1  0  2]]\n",
            "\n",
            " [[ 5  8  0]\n",
            "  [ 2  7  0]]\n",
            "\n",
            " [[ 2  1  9]\n",
            "  [ 4 -3 32]]], shape=(4, 2, 3), dtype=int32)\n"
          ]
        }
      ]
    },
    {
      "cell_type": "code",
      "source": [
        "three_d_tensor.shape"
      ],
      "metadata": {
        "colab": {
          "base_uri": "https://localhost:8080/"
        },
        "id": "gnYMhQ9otl2H",
        "outputId": "0160353b-0c89-4d40-e400-cc2c8e1871cf"
      },
      "execution_count": 7,
      "outputs": [
        {
          "output_type": "execute_result",
          "data": {
            "text/plain": [
              "TensorShape([4, 2, 3])"
            ]
          },
          "metadata": {},
          "execution_count": 7
        }
      ]
    },
    {
      "cell_type": "code",
      "source": [
        "# n_dim gives the dimension of the tensor\n",
        "three_d_tensor.ndim\n"
      ],
      "metadata": {
        "colab": {
          "base_uri": "https://localhost:8080/"
        },
        "id": "TC9NJvYwt_T0",
        "outputId": "5599774f-3ecc-4fbb-d844-2d5e7712d282"
      },
      "execution_count": 8,
      "outputs": [
        {
          "output_type": "execute_result",
          "data": {
            "text/plain": [
              "3"
            ]
          },
          "metadata": {},
          "execution_count": 8
        }
      ]
    },
    {
      "cell_type": "code",
      "source": [
        "four_d_tensor=tf.constant(\n",
        "    #first level of 3d tensor\n",
        "   [ [[[1,2,0],\n",
        "     [3,5,-1]],\n",
        "    [[10,2,0],\n",
        "     [1,0,2]],\n",
        "    [[5,8,0],\n",
        "     [2,7,0]],\n",
        "    [[2,1,9],\n",
        "     [4,-3,32]]],\n",
        "    #second level of 3d tensor\n",
        "     [[[1,2,0],\n",
        "     [3,5,-1]],\n",
        "    [[10,2,0],\n",
        "     [1,0,2]],\n",
        "    [[5,8,0],\n",
        "     [2,7,0]],\n",
        "    [[2,1,9],\n",
        "     [4,-3,32]]]\n",
        "   ]\n",
        ")\n",
        "print(four_d_tensor)"
      ],
      "metadata": {
        "colab": {
          "base_uri": "https://localhost:8080/"
        },
        "id": "rW8v6LF8uGgP",
        "outputId": "a76bb6eb-de46-44af-faf2-aad205800100"
      },
      "execution_count": 9,
      "outputs": [
        {
          "output_type": "stream",
          "name": "stdout",
          "text": [
            "tf.Tensor(\n",
            "[[[[ 1  2  0]\n",
            "   [ 3  5 -1]]\n",
            "\n",
            "  [[10  2  0]\n",
            "   [ 1  0  2]]\n",
            "\n",
            "  [[ 5  8  0]\n",
            "   [ 2  7  0]]\n",
            "\n",
            "  [[ 2  1  9]\n",
            "   [ 4 -3 32]]]\n",
            "\n",
            "\n",
            " [[[ 1  2  0]\n",
            "   [ 3  5 -1]]\n",
            "\n",
            "  [[10  2  0]\n",
            "   [ 1  0  2]]\n",
            "\n",
            "  [[ 5  8  0]\n",
            "   [ 2  7  0]]\n",
            "\n",
            "  [[ 2  1  9]\n",
            "   [ 4 -3 32]]]], shape=(2, 4, 2, 3), dtype=int32)\n"
          ]
        }
      ]
    },
    {
      "cell_type": "code",
      "source": [
        "four_d_tensor.ndim"
      ],
      "metadata": {
        "colab": {
          "base_uri": "https://localhost:8080/"
        },
        "id": "5w7-AQICvZpS",
        "outputId": "4cf91408-3c75-412f-9e6c-c66d0aadc782"
      },
      "execution_count": 10,
      "outputs": [
        {
          "output_type": "execute_result",
          "data": {
            "text/plain": [
              "4"
            ]
          },
          "metadata": {},
          "execution_count": 10
        }
      ]
    },
    {
      "cell_type": "code",
      "source": [
        "#shape (2,4,2,3) states that we have\n",
        "#    2 3D tensors\n",
        " #   Each 3D tensor has 4 2D tensor\n",
        "# Each 2D tensor has 2 rows and 3 columns"
      ],
      "metadata": {
        "id": "CkPS07P1wJ0x"
      },
      "execution_count": 11,
      "outputs": []
    },
    {
      "cell_type": "code",
      "source": [
        "casted_one_d_tensor=tf.cast(one_d_tensor,dtype=tf.float16)\n",
        "print(casted_one_d_tensor)"
      ],
      "metadata": {
        "colab": {
          "base_uri": "https://localhost:8080/"
        },
        "id": "xWfMkRy0wm8m",
        "outputId": "a8a67030-8c4b-4cc5-f60f-ba359f5b7303"
      },
      "execution_count": 12,
      "outputs": [
        {
          "output_type": "stream",
          "name": "stdout",
          "text": [
            "tf.Tensor([1. 2. 3.], shape=(3,), dtype=float16)\n"
          ]
        }
      ]
    },
    {
      "cell_type": "code",
      "source": [
        "import numpy as np"
      ],
      "metadata": {
        "id": "b0EgV7AMxWIZ"
      },
      "execution_count": 13,
      "outputs": []
    },
    {
      "cell_type": "code",
      "source": [
        "np_array=np.array([1,2,3])\n",
        "converted_tensor=tf.convert_to_tensor(np_array)"
      ],
      "metadata": {
        "id": "kKrQNdToxtoS"
      },
      "execution_count": 14,
      "outputs": []
    },
    {
      "cell_type": "code",
      "source": [
        "identity_tensor=tf.eye(\n",
        "    num_rows=3,\n",
        "    num_columns=3,\n",
        "    batch_shape=None,\n",
        "    dtype=tf.dtypes.int16,\n",
        "    name=None\n",
        ")\n",
        "print(identity_tensor)\n",
        "#batch_shape gives no of batches"
      ],
      "metadata": {
        "colab": {
          "base_uri": "https://localhost:8080/"
        },
        "id": "_kNCIRC1x_7o",
        "outputId": "dc2a6ab1-6d77-414d-9318-292df0b501f7"
      },
      "execution_count": 15,
      "outputs": [
        {
          "output_type": "stream",
          "name": "stdout",
          "text": [
            "tf.Tensor(\n",
            "[[1 0 0]\n",
            " [0 1 0]\n",
            " [0 0 1]], shape=(3, 3), dtype=int16)\n"
          ]
        }
      ]
    },
    {
      "cell_type": "code",
      "source": [
        "filled_tensor=tf.fill(\n",
        "    [1,3,4],5\n",
        ")\n",
        "print(filled_tensor)"
      ],
      "metadata": {
        "colab": {
          "base_uri": "https://localhost:8080/"
        },
        "id": "FCZOagEbzJ0I",
        "outputId": "0cc0feed-041d-45ac-aaca-570974f85fbe"
      },
      "execution_count": 16,
      "outputs": [
        {
          "output_type": "stream",
          "name": "stdout",
          "text": [
            "tf.Tensor(\n",
            "[[[5 5 5 5]\n",
            "  [5 5 5 5]\n",
            "  [5 5 5 5]]], shape=(1, 3, 4), dtype=int32)\n"
          ]
        }
      ]
    },
    {
      "cell_type": "code",
      "source": [
        "#make a random tensor from a normal distribution\n",
        "random_tensor=tf.random.normal(\n",
        "    [3,2],\n",
        "    mean=10.0,\n",
        "    stddev=1.0,\n",
        "    dtype=tf.dtypes.float16,\n",
        "    seed=None,\n",
        "    name=None\n",
        ")\n",
        "print(random_tensor)"
      ],
      "metadata": {
        "id": "HuG3pmV10osP",
        "outputId": "f7925d68-3e1f-4c86-b608-2073545d3a36",
        "colab": {
          "base_uri": "https://localhost:8080/"
        }
      },
      "execution_count": 19,
      "outputs": [
        {
          "output_type": "stream",
          "name": "stdout",
          "text": [
            "tf.Tensor(\n",
            "[[ 9.64   9.055]\n",
            " [10.41   9.48 ]\n",
            " [ 9.26  10.516]], shape=(3, 2), dtype=float16)\n"
          ]
        }
      ]
    },
    {
      "cell_type": "code",
      "source": [
        "random_uniform_tensor=tf.random.uniform(\n",
        "    [5,5],\n",
        "    minval=0,\n",
        "    maxval=8,\n",
        "    dtype=tf.dtypes.float16,\n",
        "    seed=None,\n",
        "    name=None\n",
        "\n",
        ")\n",
        "print(random_uniform_tensor)\n",
        "#seed allows to have same reproducable output everytime"
      ],
      "metadata": {
        "id": "oI-9BAcBpPJZ",
        "outputId": "148ff234-a0c3-4c1d-d858-e4ae802c88d5",
        "colab": {
          "base_uri": "https://localhost:8080/"
        }
      },
      "execution_count": 24,
      "outputs": [
        {
          "output_type": "stream",
          "name": "stdout",
          "text": [
            "tf.Tensor(\n",
            "[[1.383  2.062  1.758  5.43   4.836 ]\n",
            " [2.664  4.14   3.602  3.938  1.102 ]\n",
            " [1.617  2.562  1.773  3.023  5.1   ]\n",
            " [1.617  6.305  6.695  6.96   0.6016]\n",
            " [1.617  0.2344 5.164  3.844  6.992 ]], shape=(5, 5), dtype=float16)\n"
          ]
        }
      ]
    },
    {
      "cell_type": "code",
      "source": [
        "tensor_indexed=tf.constant([3,6,2,4,6,66,7])\n",
        "print(tensor_indexed[0:4])\n",
        "print(tensor_indexed[:4])\n",
        "print(tensor_indexed[1:6])\n",
        "print(tensor_indexed[0:7:2])\n",
        "print(tensor_indexed[:-1])#except the last value\n",
        "print(tensor_indexed[:-2])#except the last two values"
      ],
      "metadata": {
        "id": "RhThXJC0qli5",
        "outputId": "c848c890-eaaa-4e2c-ff8b-a8f07bda1762",
        "colab": {
          "base_uri": "https://localhost:8080/"
        }
      },
      "execution_count": 35,
      "outputs": [
        {
          "output_type": "stream",
          "name": "stdout",
          "text": [
            "tf.Tensor([3 6 2 4], shape=(4,), dtype=int32)\n",
            "tf.Tensor([3 6 2 4], shape=(4,), dtype=int32)\n",
            "tf.Tensor([ 6  2  4  6 66], shape=(5,), dtype=int32)\n",
            "tf.Tensor([3 2 6 7], shape=(4,), dtype=int32)\n",
            "tf.Tensor([ 3  6  2  4  6 66], shape=(6,), dtype=int32)\n",
            "tf.Tensor([3 6 2 4 6], shape=(5,), dtype=int32)\n"
          ]
        }
      ]
    },
    {
      "cell_type": "code",
      "source": [
        "print(two_d_tensor)\n",
        "print(two_d_tensor[0:2,0:2])\n",
        "print(two_d_tensor[:,-1])\n",
        "print(two_d_tensor[...,1])#... means all the rows or columns"
      ],
      "metadata": {
        "id": "aw2da-VEruIo",
        "outputId": "a7198332-b52b-4ada-dd84-9930bf27fd52",
        "colab": {
          "base_uri": "https://localhost:8080/"
        }
      },
      "execution_count": 45,
      "outputs": [
        {
          "output_type": "stream",
          "name": "stdout",
          "text": [
            "tf.Tensor(\n",
            "[[1 2 3]\n",
            " [4 5 6]\n",
            " [7 8 9]], shape=(3, 3), dtype=int32)\n",
            "tf.Tensor(\n",
            "[[1 2]\n",
            " [4 5]], shape=(2, 2), dtype=int32)\n",
            "tf.Tensor([3 6 9], shape=(3,), dtype=int32)\n",
            "tf.Tensor([2 5 8], shape=(3,), dtype=int32)\n"
          ]
        }
      ]
    },
    {
      "cell_type": "code",
      "source": [
        "print(three_d_tensor)"
      ],
      "metadata": {
        "id": "B1EIJQKBs-tY",
        "outputId": "5ca658c2-a7d8-4954-9f73-7ee644cf2757",
        "colab": {
          "base_uri": "https://localhost:8080/"
        }
      },
      "execution_count": 46,
      "outputs": [
        {
          "output_type": "stream",
          "name": "stdout",
          "text": [
            "tf.Tensor(\n",
            "[[[ 1  2  0]\n",
            "  [ 3  5 -1]]\n",
            "\n",
            " [[10  2  0]\n",
            "  [ 1  0  2]]\n",
            "\n",
            " [[ 5  8  0]\n",
            "  [ 2  7  0]]\n",
            "\n",
            " [[ 2  1  9]\n",
            "  [ 4 -3 32]]], shape=(4, 2, 3), dtype=int32)\n"
          ]
        }
      ]
    },
    {
      "cell_type": "code",
      "source": [
        "print(three_d_tensor[0,0,:])"
      ],
      "metadata": {
        "id": "__miia4dvo6Y",
        "outputId": "09f8134b-ad76-4857-aa42-7bb36b7dca6a",
        "colab": {
          "base_uri": "https://localhost:8080/"
        }
      },
      "execution_count": 49,
      "outputs": [
        {
          "output_type": "stream",
          "name": "stdout",
          "text": [
            "tf.Tensor([1 2 0], shape=(3,), dtype=int32)\n"
          ]
        }
      ]
    },
    {
      "cell_type": "code",
      "source": [],
      "metadata": {
        "id": "htUfA3XxxaNR"
      },
      "execution_count": null,
      "outputs": []
    }
  ]
}